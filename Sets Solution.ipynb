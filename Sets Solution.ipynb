{
 "cells": [
  {
   "cell_type": "markdown",
   "metadata": {},
   "source": [
    "# Sets Solution"
   ]
  },
  {
   "cell_type": "code",
   "execution_count": 4,
   "metadata": {},
   "outputs": [
    {
     "name": "stdout",
     "output_type": "stream",
     "text": [
      "Enter a string : hey man. all ok\n",
      "{'a', 'u', 'i', 'e', 'o'}\n",
      "count of the vowels : \n",
      "4\n"
     ]
    }
   ],
   "source": [
    "# Python Program to Count the Number of Vowels Present in a String using Sets:\n",
    "    \n",
    "    \n",
    "str1 = input(\"Enter a string : \")\n",
    "count = 0\n",
    "vowels = set(\"aeiou\")\n",
    "print(vowels)\n",
    "for letter in str1 :\n",
    "    if letter in vowels:\n",
    "        count+=1\n",
    "print(\"count of the vowels : \")\n",
    "print(count)\n"
   ]
  },
  {
   "cell_type": "code",
   "execution_count": 3,
   "metadata": {},
   "outputs": [
    {
     "name": "stdout",
     "output_type": "stream",
     "text": [
      "Enter String : hello earth\n",
      "the Number of Vowels : {'e': 2, 'o': 1, 'a': 1}\n"
     ]
    }
   ],
   "source": [
    "str1 = input('Enter String : ')\n",
    "vowels = ['a', 'e', 'i', 'o', 'u']\n",
    "vowelsCount = {}\n",
    "for i in str1.lower():\n",
    "    if i in vowels:\n",
    "        if i in vowelsCount.keys():\n",
    "            vowelsCount[i] += 1\n",
    "            continue\n",
    "        vowelsCount[i] = 1\n",
    "print(f'the Number of Vowels : {vowelsCount}')\n"
   ]
  },
  {
   "cell_type": "code",
   "execution_count": 8,
   "metadata": {},
   "outputs": [
    {
     "name": "stdout",
     "output_type": "stream",
     "text": [
      "{'a', 'k', 's', 'i', 'l', 'e', 't', 'h', 'o', 'n', 'r', ' '}\n"
     ]
    },
    {
     "data": {
      "text/plain": [
       "'aksilethonr '"
      ]
     },
     "execution_count": 8,
     "metadata": {},
     "output_type": "execute_result"
    }
   ],
   "source": [
    "# Python Program to Check Common Letters in Two Input Strings:\n",
    "    \n",
    "s1=\"hello iam srikanth\"\n",
    "s2=\"hello this is srikanth\"\n",
    "k1=set(s1)\n",
    "k2=set(s2)\n",
    "res = k1.intersection(k2)\n",
    "print(res)\n",
    "\n",
    "\"\".join(list(res))\n"
   ]
  },
  {
   "cell_type": "code",
   "execution_count": 9,
   "metadata": {},
   "outputs": [
    {
     "name": "stdout",
     "output_type": "stream",
     "text": [
      "Enter first string: Joyful Evening\n",
      "Enter second string: 58 house code please\n",
      "f-j-g-i-v-n-y-"
     ]
    }
   ],
   "source": [
    "#  Python Program that Displays which Letters are in the First String but not in the Second:\n",
    "    \n",
    "str1 = input('Enter first string: ')\n",
    "str2 = input('Enter second string: ')\n",
    "\n",
    "z = set(str1.lower()).difference(set(str2.lower()))\n",
    "\n",
    "for i in z:\n",
    "    print(i, end = \"-\")\n",
    "\n",
    "# A - A_Intersect_B"
   ]
  },
  {
   "cell_type": "code",
   "execution_count": null,
   "metadata": {},
   "outputs": [],
   "source": [
    "# \n",
    "#  Python Program that Displays which Letters are Present\n",
    "# in Both the Strings:\n",
    "  UNION\n",
    "    \n",
    "# ✓ Python Program that Displays which Letters are in the\n",
    "# Two Strings but not in Both:\n",
    "\n",
    "SYMMETRY DIFFERENCE"
   ]
  },
  {
   "cell_type": "code",
   "execution_count": null,
   "metadata": {},
   "outputs": [],
   "source": []
  },
  {
   "cell_type": "code",
   "execution_count": null,
   "metadata": {},
   "outputs": [],
   "source": [
    "File Handling:\n",
    "✓ Python Program to Read the Contents of a File:\n",
    "✓ Python Program to Count the Number of Words in a Text File:\n",
    "✓ Python Program to Read a String from the User and Append it\n",
    "into a File:\n",
    "✓ Python Program to Copy the Contents of One File into\n",
    "Another:\n",
    "✓ Python Program that Reads a Text File and Counts the\n",
    "Number of Times a Certain Letter Appears in the Text File:\n",
    "✓ Python Program to Append the Contents of One File to\n",
    "Another File:\n",
    "✓ Python Program to Count the Number of Blank Spaces in a\n",
    "Text File:\n",
    "    \n",
    "Python Program to Read the Contents of a File in Reverse\n",
    "Order:"
   ]
  },
  {
   "cell_type": "code",
   "execution_count": null,
   "metadata": {},
   "outputs": [],
   "source": [
    "f1=open(\"newfile.txt\", 'a')\n",
    "f2=open(\"user.txt\",'r')\n",
    "data=f2.read()\n",
    "f1.write(data)\n",
    "f1.close()\n",
    "f2.close()\n"
   ]
  },
  {
   "cell_type": "code",
   "execution_count": null,
   "metadata": {},
   "outputs": [],
   "source": [
    "f1=open(\"space.txt\")\n",
    "data=f1.read()\n",
    "count=0\n",
    "for i in data:\n",
    "    if i.isspace():\n",
    "        count+=1\n",
    "print(count)\n"
   ]
  },
  {
   "cell_type": "code",
   "execution_count": null,
   "metadata": {},
   "outputs": [],
   "source": [
    "# data[ len(data): 0: -1]"
   ]
  },
  {
   "cell_type": "code",
   "execution_count": 13,
   "metadata": {},
   "outputs": [
    {
     "name": "stdout",
     "output_type": "stream",
     "text": [
      "olleh"
     ]
    }
   ],
   "source": [
    "# for l in reversed(\"hello\") : \n",
    "#     print(l, end = '')\n"
   ]
  },
  {
   "cell_type": "code",
   "execution_count": null,
   "metadata": {},
   "outputs": [],
   "source": []
  },
  {
   "cell_type": "code",
   "execution_count": null,
   "metadata": {},
   "outputs": [],
   "source": []
  }
 ],
 "metadata": {
  "kernelspec": {
   "display_name": "Python 3",
   "language": "python",
   "name": "python3"
  },
  "language_info": {
   "codemirror_mode": {
    "name": "ipython",
    "version": 3
   },
   "file_extension": ".py",
   "mimetype": "text/x-python",
   "name": "python",
   "nbconvert_exporter": "python",
   "pygments_lexer": "ipython3",
   "version": "3.8.3"
  }
 },
 "nbformat": 4,
 "nbformat_minor": 4
}
